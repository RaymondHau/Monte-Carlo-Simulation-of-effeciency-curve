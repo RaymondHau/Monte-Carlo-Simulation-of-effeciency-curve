{
 "cells": [
  {
   "cell_type": "code",
   "execution_count": 1,
   "id": "a14f404d",
   "metadata": {},
   "outputs": [],
   "source": [
    "import numpy as np\n",
    "import matplotlib.pyplot as plt\n",
    "from scipy.optimize import curve_fit\n",
    "rng = np.random.default_rng()"
   ]
  },
  {
   "cell_type": "code",
   "execution_count": 2,
   "id": "be762f4a",
   "metadata": {},
   "outputs": [],
   "source": [
    "#define the dimensions of the sample cyllinder\n",
    "r_soil=30 #radius of soil sample mm\n",
    "h_soil=40 #height of soil sample mm\n",
    "r_detect=61/2 #radius of detector mm\n",
    "z_top_detect=-5 #z-value of the top of the detector mm\n",
    "z_bottom_detect=-5-62 #z-value of the bottom of the detector mm\n",
    "\n",
    "Res=10**5 #Resolution of simulation\n",
    "\n",
    "k_absorb=0.0037 #absorbtion coifecient of the detector (this is only a test value)\n",
    "\n",
    "Planned_simulation_time = 1 #x 10min\n"
   ]
  },
  {
   "cell_type": "code",
   "execution_count": 3,
   "id": "5dcc87aa",
   "metadata": {},
   "outputs": [
    {
     "name": "stdout",
     "output_type": "stream",
     "text": [
      "CPU times: total: 1.14 s\n",
      "Wall time: 1.19 s\n"
     ]
    }
   ],
   "source": [
    "%%time\n",
    "\n",
    "Reslow=10**5 #defines the lower resolution to generate the points\n",
    "\n",
    "#makes 2 random angles\n",
    "theta, phi = np.random.rand(2,Reslow) \n",
    "#makes a unit vector in a random direction\n",
    "Vectorlow = np.transpose(np.array([np.sin(theta*np.pi)*np.cos(phi*2*np.pi),np.sin(theta*np.pi)*np.sin(phi*2*np.pi),np.cos(theta*np.pi)]))\n",
    "\n",
    "\n",
    "#array to store values\n",
    "point_in_soil_low=np.zeros((Reslow,3))\n",
    "#loop to fill the array\n",
    "for i in range(Reslow):\n",
    "        #sets value to initiate while loop\n",
    "        testpoint=np.ones((3))*r_soil\n",
    "        #checks if the point is in the cylinder\n",
    "        while testpoint[0]**2+testpoint[1]**2>r_soil**2 or 0>testpoint[2] or testpoint[2]>h_soil:\n",
    "            #makes a random point to be checked\n",
    "            testpoint=np.array([np.random.rand()*r_soil,np.random.rand()*r_soil,np.random.rand()*h_soil])\n",
    "        #puts the point in the array\n",
    "        point_in_soil_low[i,:]=testpoint\n",
    "        \n"
   ]
  },
  {
   "cell_type": "code",
   "execution_count": 4,
   "id": "fd882900",
   "metadata": {},
   "outputs": [
    {
     "name": "stdout",
     "output_type": "stream",
     "text": [
      "Effeciency full[ 0 ] = 0.03290704455820766\n",
      "Effeciency geo[ 0 ] = 0.24088\n",
      "Effeciency full[ 1 ] = 0.03304369175459712\n",
      "Effeciency geo[ 1 ] = 0.24158\n",
      "Effeciency full[ 2 ] = 0.033272215499044175\n",
      "Effeciency geo[ 2 ] = 0.24347\n",
      "Effeciency full[ 3 ] = 0.03346643605089092\n",
      "Effeciency geo[ 3 ] = 0.24428\n",
      "Effeciency full[ 4 ] = 0.03348711911542169\n",
      "Effeciency geo[ 4 ] = 0.24451\n",
      "Effeciency full[ 5 ] = 0.033282656490692175\n",
      "Effeciency geo[ 5 ] = 0.24279\n",
      "Effeciency full[ 6 ] = 0.03364776214380137\n",
      "Effeciency geo[ 6 ] = 0.24452\n",
      "Effeciency full[ 7 ] = 0.033515806557061566\n",
      "Effeciency geo[ 7 ] = 0.24372\n",
      "Effeciency full[ 8 ] = 0.0338657258920893\n",
      "Effeciency geo[ 8 ] = 0.24598\n",
      "Effeciency full[ 9 ] = 0.03346215706329038\n",
      "Effeciency geo[ 9 ] = 0.24468\n",
      "Effeciency full[ 10 ] = 0.033458149817217855\n",
      "Effeciency geo[ 10 ] = 0.24423\n",
      "Effeciency full[ 11 ] = 0.03371727046944639\n",
      "Effeciency geo[ 11 ] = 0.24519\n",
      "Effeciency full= 0.03342716961764671 ± 7.466627327430528e-05\n",
      "Geometric Effeciency= 0.2438191666666667 ± 0.00040382280618644635\n",
      "CPU times: total: 578 ms\n",
      "Wall time: 710 ms\n"
     ]
    }
   ],
   "source": [
    "%%time\n",
    "#define lenth of arrays\n",
    "N=int((60*Planned_simulation_time)//5)\n",
    "#makes arrays to store values\n",
    "EffeciencyArray=np.zeros(N)\n",
    "EffeciencyGeoArray=np.zeros(N)\n",
    "\n",
    "#loop \n",
    "for i in range(N):\n",
    "    #generates random numbers\n",
    "    randomlist=rng.integers(0,Reslow, (2,Res))\n",
    "    \n",
    "    #calls random points and direction from the generated set\n",
    "    point_in_soil=point_in_soil_low[randomlist[0]]\n",
    "    Vector=Vectorlow[randomlist[1]]\n",
    "\n",
    "    #makes an empty array to store values\n",
    "    combined_array = np.zeros((Res,10))\n",
    "    #inputs the directions\n",
    "    combined_array[:,:3]=Vector\n",
    "    #inputs the points\n",
    "    combined_array[:,3:6]=point_in_soil\n",
    "    #renames to make writing out a bit easier\n",
    "    x,y,z,x0,y0,z0= np.transpose(combined_array[:,:6])\n",
    "    \n",
    "    #calculates the discriminant for the infinite cylinder\n",
    "    combined_array[:,6]=((x0*x+y*y0)**2-(x**2+y**2)*(x0**2+y0**2-r_detect**2))\n",
    "    \n",
    "    #if the discriminant is negative, return 0 to avoid squareroots of negative numbers\n",
    "    combined_array[combined_array[:,6] < 0, 6] = 0\n",
    "\n",
    "    #Find the lenth of the ray to enter the \n",
    "    combined_array[:, 7] = np.maximum(np.minimum((z_top_detect - combined_array[:,5])/combined_array[:,2],(z_bottom_detect - combined_array[:,5])/combined_array[:,2]),\n",
    "                                    np.minimum((-(combined_array[:,0]*combined_array[:,3]+combined_array[:,1]*combined_array[:,4])-np.sqrt(combined_array[:,6]))/(combined_array[:,0]**2+combined_array[:,1]**2),\n",
    "                                                                   (-(combined_array[:,0]*combined_array[:,3]+combined_array[:,1]*combined_array[:,4])+np.sqrt(combined_array[:,6]))/(combined_array[:,0]**2+combined_array[:,1]**2)))\n",
    "    combined_array[combined_array[:,6] <= 0, 7] = 0\n",
    "\n",
    "    combined_array[:, 8] = np.minimum(np.maximum((z_top_detect - combined_array[:,5])/combined_array[:,2],(z_bottom_detect - combined_array[:,5])/combined_array[:,2]),\n",
    "                                    np.maximum((-(combined_array[:,0]*combined_array[:,3]+combined_array[:,1]*combined_array[:,4])-np.sqrt(combined_array[:,6]))/(combined_array[:,0]**2+combined_array[:,1]**2),\n",
    "                                                                   (-(combined_array[:,0]*combined_array[:,3]+combined_array[:,1]*combined_array[:,4])+np.sqrt(combined_array[:,6]))/(combined_array[:,0]**2+combined_array[:,1]**2)))\n",
    "    combined_array[combined_array[:,6] <= 0, 8] = 0\n",
    "\n",
    "    combined_array[:,9] = combined_array[:,8]-combined_array[:,7]\n",
    "\n",
    "    combined_array[combined_array[:, 7]<0, 9] = 0 \n",
    "    combined_array[combined_array[:, 8]<combined_array[:, 7], 9] = 0 \n",
    "\n",
    "    L=combined_array[:,9]\n",
    "    LGeo=np.copy(L)\n",
    "    LGeo[L>0] = 1\n",
    "\n",
    "    print(\"Effeciency full[\",i,\"] =\",np.sum(1-np.exp(-k_absorb*L))/Res)\n",
    "    \n",
    "    print(\"Effeciency geo[\",i,\"] =\",np.sum(LGeo)/Res)\n",
    "    \n",
    "    EffeciencyArray[i]=np.sum(1-np.exp(-k_absorb*L))/Res\n",
    "    EffeciencyGeoArray[i]=np.sum(LGeo)/Res\n",
    "    \n",
    "    \n",
    "    \n",
    "print(\"Effeciency full=\",np.mean(EffeciencyArray), \"±\", np.std(EffeciencyArray)/np.sqrt(len(EffeciencyArray)))\n",
    "\n",
    "print(\"Geometric Effeciency=\",np.mean(EffeciencyGeoArray), \"±\", np.std(EffeciencyGeoArray)/np.sqrt(len(EffeciencyGeoArray)))"
   ]
  },
  {
   "cell_type": "code",
   "execution_count": 5,
   "id": "be6a2e61",
   "metadata": {},
   "outputs": [
    {
     "name": "stdout",
     "output_type": "stream",
     "text": [
      "CPU times: total: 0 ns\n",
      "Wall time: 0 ns\n"
     ]
    }
   ],
   "source": [
    "%%time\n",
    "#makes arrays to store values\n",
    "\n",
    "def Sim(k_fit):\n",
    "    #define lenth of arrays\n",
    "    N=int((60*Planned_simulation_time)//5)\n",
    "    #makes arrays to store values\n",
    "    EffeciencyArray=np.zeros(N)\n",
    "    EffeciencyGeoArray=np.zeros(N)\n",
    "    \n",
    "    #loop \n",
    "    for i in range(N):\n",
    "        #generates random numbers\n",
    "        randomlist=rng.integers(0,Reslow, (2,Res))\n",
    "    \n",
    "        #calls random points and direction from the generated set\n",
    "        point_in_soil=point_in_soil_low[randomlist[0]]\n",
    "        Vector=Vectorlow[randomlist[1]]\n",
    "\n",
    "        #makes an empty array to store values\n",
    "        combined_array = np.zeros((Res,10))\n",
    "        #inputs the directions\n",
    "        combined_array[:,:3]=Vector\n",
    "        #inputs the points\n",
    "        combined_array[:,3:6]=point_in_soil\n",
    "        #renames to make writing out a bit easier\n",
    "        x,y,z,x0,y0,z0= np.transpose(combined_array[:,:6])\n",
    "    \n",
    "        #calculates the discriminant for the infinite cylinder\n",
    "        combined_array[:,6]=((x0*x+y*y0)**2-(x**2+y**2)*(x0**2+y0**2-r_detect**2))\n",
    "    \n",
    "        #if the discriminant is negative, return 0 to avoid squareroots of negative numbers\n",
    "        combined_array[combined_array[:,6] < 0, 6] = 0\n",
    "\n",
    "        #Find the lenth of the ray to enter the \n",
    "        combined_array[:, 7] = np.maximum(np.minimum((z_top_detect - combined_array[:,5])/combined_array[:,2],(z_bottom_detect - combined_array[:,5])/combined_array[:,2]),\n",
    "                                    np.minimum((-(combined_array[:,0]*combined_array[:,3]+combined_array[:,1]*combined_array[:,4])-np.sqrt(combined_array[:,6]))/(combined_array[:,0]**2+combined_array[:,1]**2),\n",
    "                                                                   (-(combined_array[:,0]*combined_array[:,3]+combined_array[:,1]*combined_array[:,4])+np.sqrt(combined_array[:,6]))/(combined_array[:,0]**2+combined_array[:,1]**2)))\n",
    "        combined_array[combined_array[:,6] <= 0, 7] = 0\n",
    "\n",
    "        combined_array[:, 8] = np.minimum(np.maximum((z_top_detect - combined_array[:,5])/combined_array[:,2],(z_bottom_detect - combined_array[:,5])/combined_array[:,2]),\n",
    "                                    np.maximum((-(combined_array[:,0]*combined_array[:,3]+combined_array[:,1]*combined_array[:,4])-np.sqrt(combined_array[:,6]))/(combined_array[:,0]**2+combined_array[:,1]**2),\n",
    "                                                                   (-(combined_array[:,0]*combined_array[:,3]+combined_array[:,1]*combined_array[:,4])+np.sqrt(combined_array[:,6]))/(combined_array[:,0]**2+combined_array[:,1]**2)))\n",
    "        combined_array[combined_array[:,6] <= 0, 8] = 0\n",
    "\n",
    "        combined_array[:,9] = combined_array[:,8]-combined_array[:,7]\n",
    "\n",
    "        combined_array[combined_array[:, 7]<0, 9] = 0 \n",
    "        combined_array[combined_array[:, 8]<combined_array[:, 7], 9] = 0 \n",
    "\n",
    "        L=combined_array[:,9]\n",
    "        LGeo=np.copy(L)\n",
    "        LGeo[L>0] = 1\n",
    "\n",
    "        #print(\"Effeciency full[\",i,\"] =\",np.sum(1-np.exp(-k_fit*L))/Res)\n",
    "    \n",
    "        #print(\"Effeciency geo[\",i,\"] =\",np.sum(LGeo)/Res)\n",
    "    \n",
    "        EffeciencyArray[i]=np.sum(1-np.exp(-k_fit*L))/Res\n",
    "        EffeciencyGeoArray[i]=np.sum(LGeo)/Res\n",
    "    \n",
    "    Efficiency_res=np.mean(EffeciencyArray)\n",
    "    Efficiency_uncert=np.std(EffeciencyArray)/np.sqrt(len(EffeciencyArray))\n",
    "        \n",
    "    return Efficiency_res, Efficiency_uncert\n",
    "    \n",
    "    \n",
    "    \n"
   ]
  },
  {
   "cell_type": "code",
   "execution_count": 6,
   "id": "0ede1268",
   "metadata": {},
   "outputs": [],
   "source": [
    "#measured effeciency's energies\n",
    "Eff_Energy = np.array([\n",
    "    238.63, 270.25, 295.24, 300.09, 328, 338.32, 351.93, 409.46, 463, 562.5, \n",
    "    583.19, 609.31, 661.66, 665.45, 727.33, 755.32, 763.13, 768.36, 772.29, \n",
    "    782.14, 794.95, 806.17, 830.49, 835.71, 840.38, 860.56, 904.2, 911.2, \n",
    "    934.06, 964.77, 968.97, 994.93, 1000.99, 1078.62, 1120.29, 1155.19, \n",
    "    1238.11, 1280.96, 1377.67, 1401.5, 1407.98, 1460.75, 1495.91, 1501.57, \n",
    "    1509.23, 1580.53, 1588.2, 1620.5, 1630.63, 1638.28, 1661.28, 1729.59, \n",
    "    1764.49, 1847.42, 2118.55, 2204.21, 2447.86, 2614.53])\n",
    "\n",
    "#measured effeciency\n",
    "Eff_measured = np.array([\n",
    "    0.07863914, 0.095664076, 0.068889996, 0.073560801, 0.064823544, 0.061288655,\n",
    "    0.055273812, 0.050257814, 0.048878811, 0.036874903, 0.012739734, 0.03373769,\n",
    "    0.031907126, 0.028275956, 0.036303364, 0.038089398, 0.012390097, 0.03100052,\n",
    "    0.024785013, 0.029212886, 0.029714037, 0.034786483, 0.020777823, 0.025280919,\n",
    "    0.019054986, 0.010845103, 0.028779995, 0.029162185, 0.025041615, 0.026511601,\n",
    "    0.026775279, 0.01206403, 0.018713049, 0.033445132, 0.022410073, 0.023664193,\n",
    "    0.021361081, 0.02281539, 0.024794603, 0.019290749, 0.014962917, 0.00212166,\n",
    "    0.023087339, 0.021171577, 0.023319976, 0.016417844, 0.019383774, 0.019402267,\n",
    "    0.021754742, 0.021048137, 0.021711193, 0.026738214, 0.020011573, 0.021974167,\n",
    "    0.01923418, 0.019459631, 0.026324342, 0.005256956\n",
    "])"
   ]
  },
  {
   "cell_type": "code",
   "execution_count": 7,
   "id": "8cd7c9ae",
   "metadata": {},
   "outputs": [],
   "source": [
    "#bisection algorythm\n",
    "def find_k(target_value, lower_bound, upper_bound):\n",
    "\n",
    "    while True:\n",
    "        mid = (lower_bound + upper_bound) / 2\n",
    "        value, error = Sim(mid)\n",
    "        \n",
    "        \n",
    "        if abs(value - target_value) <= error/2:\n",
    "            return mid, error\n",
    "        elif value < target_value:\n",
    "            lower_bound = mid\n",
    "\n",
    "        else:\n",
    "            upper_bound = mid\n",
    "\n"
   ]
  },
  {
   "cell_type": "code",
   "execution_count": null,
   "id": "d37be9c6",
   "metadata": {},
   "outputs": [],
   "source": []
  },
  {
   "cell_type": "code",
   "execution_count": null,
   "id": "fec30478",
   "metadata": {},
   "outputs": [],
   "source": []
  },
  {
   "cell_type": "code",
   "execution_count": 8,
   "id": "5eb0c972",
   "metadata": {},
   "outputs": [
    {
     "name": "stdout",
     "output_type": "stream",
     "text": [
      "working on Energy= 238.63 keV\n",
      "progress= 0 %\n",
      "working on Energy= 270.25 keV\n",
      "progress= 1 %\n",
      "working on Energy= 295.24 keV\n",
      "progress= 3 %\n",
      "working on Energy= 300.09 keV\n",
      "progress= 5 %\n",
      "working on Energy= 328.0 keV\n",
      "progress= 6 %\n",
      "working on Energy= 338.32 keV\n",
      "progress= 8 %\n",
      "working on Energy= 351.93 keV\n",
      "progress= 10 %\n",
      "working on Energy= 409.46 keV\n",
      "progress= 12 %\n",
      "working on Energy= 463.0 keV\n",
      "progress= 13 %\n",
      "working on Energy= 562.5 keV\n",
      "progress= 15 %\n",
      "working on Energy= 583.19 keV\n",
      "progress= 17 %\n",
      "working on Energy= 609.31 keV\n",
      "progress= 18 %\n",
      "working on Energy= 661.66 keV\n",
      "progress= 20 %\n",
      "working on Energy= 665.45 keV\n",
      "progress= 22 %\n",
      "working on Energy= 727.33 keV\n",
      "progress= 24 %\n",
      "working on Energy= 755.32 keV\n",
      "progress= 25 %\n",
      "working on Energy= 763.13 keV\n",
      "progress= 27 %\n",
      "working on Energy= 768.36 keV\n",
      "progress= 29 %\n",
      "working on Energy= 772.29 keV\n",
      "progress= 31 %\n",
      "working on Energy= 782.14 keV\n",
      "progress= 32 %\n",
      "working on Energy= 794.95 keV\n",
      "progress= 34 %\n",
      "working on Energy= 806.17 keV\n",
      "progress= 36 %\n",
      "working on Energy= 830.49 keV\n",
      "progress= 37 %\n",
      "working on Energy= 835.71 keV\n",
      "progress= 39 %\n",
      "working on Energy= 840.38 keV\n",
      "progress= 41 %\n",
      "working on Energy= 860.56 keV\n",
      "progress= 43 %\n",
      "working on Energy= 904.2 keV\n",
      "progress= 44 %\n",
      "working on Energy= 911.2 keV\n",
      "progress= 46 %\n",
      "working on Energy= 934.06 keV\n",
      "progress= 48 %\n",
      "working on Energy= 964.77 keV\n",
      "progress= 50 %\n",
      "working on Energy= 968.97 keV\n",
      "progress= 51 %\n",
      "working on Energy= 994.93 keV\n",
      "progress= 53 %\n",
      "working on Energy= 1000.99 keV\n",
      "progress= 55 %\n",
      "working on Energy= 1078.62 keV\n",
      "progress= 56 %\n",
      "working on Energy= 1120.29 keV\n",
      "progress= 58 %\n",
      "working on Energy= 1155.19 keV\n",
      "progress= 60 %\n",
      "working on Energy= 1238.11 keV\n",
      "progress= 62 %\n",
      "working on Energy= 1280.96 keV\n",
      "progress= 63 %\n",
      "working on Energy= 1377.67 keV\n",
      "progress= 65 %\n",
      "working on Energy= 1401.5 keV\n",
      "progress= 67 %\n",
      "working on Energy= 1407.98 keV\n",
      "progress= 68 %\n",
      "working on Energy= 1460.75 keV\n",
      "progress= 70 %\n",
      "working on Energy= 1495.91 keV\n",
      "progress= 72 %\n",
      "working on Energy= 1501.57 keV\n",
      "progress= 74 %\n",
      "working on Energy= 1509.23 keV\n",
      "progress= 75 %\n",
      "working on Energy= 1580.53 keV\n",
      "progress= 77 %\n",
      "working on Energy= 1588.2 keV\n",
      "progress= 79 %\n",
      "working on Energy= 1620.5 keV\n",
      "progress= 81 %\n",
      "working on Energy= 1630.63 keV\n",
      "progress= 82 %\n",
      "working on Energy= 1638.28 keV\n",
      "progress= 84 %\n",
      "working on Energy= 1661.28 keV\n",
      "progress= 86 %\n",
      "working on Energy= 1729.59 keV\n",
      "progress= 87 %\n",
      "working on Energy= 1764.49 keV\n",
      "progress= 89 %\n",
      "working on Energy= 1847.42 keV\n",
      "progress= 91 %\n",
      "working on Energy= 2118.55 keV\n",
      "progress= 93 %\n",
      "working on Energy= 2204.21 keV\n",
      "progress= 94 %\n",
      "working on Energy= 2447.86 keV\n",
      "progress= 96 %\n",
      "working on Energy= 2614.53 keV\n",
      "progress= 98 %\n",
      "CPU times: total: 13min 50s\n",
      "Wall time: 13min 54s\n"
     ]
    }
   ],
   "source": [
    "%%time\n",
    "k_simulated=np.zeros(len(Eff_measured))\n",
    "k_simulated_error=np.zeros(len(Eff_measured))\n",
    "\n",
    "#finding k-values to each energy\n",
    "\n",
    "for i in range(len(Eff_measured)):\n",
    "    print(\"working on Energy=\", Eff_Energy[i], \"keV\")\n",
    "    print(\"progress=\", i*100//len(Eff_measured), \"%\")\n",
    "    \n",
    "    k_simulated[i]=find_k(Eff_measured[i], 0, 0.02)[0]\n",
    "    k_simulated_error[i]=find_k(Eff_measured[i], 0, 0.02)[1]"
   ]
  },
  {
   "cell_type": "code",
   "execution_count": 9,
   "id": "24848c8e",
   "metadata": {},
   "outputs": [],
   "source": [
    "# Define function to fit k(E)\n",
    "def funk(x, a, b, c):\n",
    "    return a/(x-b)+c\n",
    "\n",
    "# Fit the exponential function to the data\n",
    "popt, pcov = curve_fit(funk, Eff_Energy,k_simulated,  p0=[10,100,0.02])\n"
   ]
  },
  {
   "cell_type": "code",
   "execution_count": 18,
   "id": "c7143471",
   "metadata": {
    "scrolled": true
   },
   "outputs": [
    {
     "data": {
      "image/png": "[encoded data removed]",
      "text/plain": [
       "<Figure size 432x288 with 1 Axes>"
      ]
     },
     "metadata": {
      "needs_background": "light"
     },
     "output_type": "display_data"
    }
   ],
   "source": [
    "#plottting k(E)\n",
    "å=np.linspace(np.min(Eff_Energy),np.max(Eff_Energy),1000)\n",
    "\n",
    "plt.errorbar(Eff_Energy,k_simulated, yerr=k_simulated_error,fmt='None')\n",
    "plt.plot(å,popt[0]/(å-popt[1])+popt[2])\n",
    "plt.plot(Eff_Energy,k_simulated,\"o\")\n",
    "plt.show()\n",
    "\n",
    "\n",
    "\n",
    "\n"
   ]
  },
  {
   "cell_type": "code",
   "execution_count": 11,
   "id": "500051de",
   "metadata": {},
   "outputs": [
    {
     "name": "stdout",
     "output_type": "stream",
     "text": [
      "0 %\n",
      "2 %\n",
      "4 %\n",
      "6 %\n",
      "8 %\n",
      "10 %\n",
      "12 %\n",
      "14 %\n",
      "16 %\n",
      "18 %\n",
      "20 %\n",
      "22 %\n",
      "24 %\n",
      "26 %\n",
      "28 %\n",
      "30 %\n",
      "32 %\n",
      "34 %\n",
      "36 %\n",
      "38 %\n",
      "40 %\n",
      "42 %\n",
      "44 %\n",
      "46 %\n",
      "48 %\n",
      "50 %\n",
      "52 %\n",
      "54 %\n",
      "56 %\n",
      "58 %\n",
      "60 %\n",
      "62 %\n",
      "64 %\n",
      "66 %\n",
      "68 %\n",
      "70 %\n",
      "72 %\n",
      "74 %\n",
      "76 %\n",
      "78 %\n",
      "80 %\n",
      "82 %\n",
      "84 %\n",
      "86 %\n",
      "88 %\n",
      "90 %\n",
      "92 %\n",
      "94 %\n",
      "96 %\n",
      "98 %\n",
      "CPU times: total: 32 s\n",
      "Wall time: 32.5 s\n"
     ]
    }
   ],
   "source": [
    "%%time\n",
    "#using the function to define an array of k's for each E\n",
    "\n",
    "def k_from_E(x):\n",
    "    a,b,c=popt\n",
    "    return a/(x-b)+c\n",
    "\n",
    "#the energies we simulate\n",
    "Energy_array=np.linspace(200,2700,50)\n",
    "\n",
    "#empty array for effeciencies\n",
    "Eff=np.zeros(len(Energy_array))\n",
    "\n",
    "#giving the corresponding k values\n",
    "k_array=k_from_E(Energy_array)\n",
    "\n",
    "#run the simulation to find effeciencies values\n",
    "for i in range(len(Energy_array)):\n",
    "    print(i*100//len(Energy_array),\"%\")\n",
    "    Eff[i]=Sim(k_array[i])[0]"
   ]
  },
  {
   "cell_type": "code",
   "execution_count": 12,
   "id": "8982e941",
   "metadata": {},
   "outputs": [
    {
     "data": {
      "text/plain": [
       "(0.09058327472400811, 0.00017338926454910742)"
      ]
     },
     "execution_count": 12,
     "metadata": {},
     "output_type": "execute_result"
    }
   ],
   "source": []
  },
  {
   "cell_type": "code",
   "execution_count": 19,
   "id": "16d50348",
   "metadata": {},
   "outputs": [
    {
     "data": {
      "text/plain": [
       "<matplotlib.legend.Legend at 0x1885c98ab50>"
      ]
     },
     "execution_count": 19,
     "metadata": {},
     "output_type": "execute_result"
    },
    {
     "data": {
      "image/png": "[encoded data removed]",
      "text/plain": [
       "<Figure size 432x288 with 1 Axes>"
      ]
     },
     "metadata": {
      "needs_background": "light"
     },
     "output_type": "display_data"
    }
   ],
   "source": [
    "#plot effeciency curve\n",
    "plt.plot(Energy_array,Eff, label=\"Effeciency curve\")\n",
    "#plot measured effeciencies\n",
    "plt.plot(Eff_Energy,Eff_measured,\"o\",label=\"Measured Effeciencies\")\n",
    "plt.legend()"
   ]
  },
  {
   "cell_type": "code",
   "execution_count": 14,
   "id": "4f2060e6",
   "metadata": {},
   "outputs": [
    {
     "data": {
      "text/plain": [
       "array([1.45279147e+00, 1.11323277e+02, 9.66373554e-04])"
      ]
     },
     "execution_count": 14,
     "metadata": {},
     "output_type": "execute_result"
    }
   ],
   "source": [
    "#coeficients to fit it\n",
    "popt"
   ]
  },
  {
   "cell_type": "code",
   "execution_count": 15,
   "id": "c8d04254",
   "metadata": {},
   "outputs": [
    {
     "data": {
      "text/plain": [
       "array([62.00699807,  0.        ,  5.07984676, ...,  0.        ,\n",
       "        0.        ,  0.        ])"
      ]
     },
     "execution_count": 15,
     "metadata": {},
     "output_type": "execute_result"
    }
   ],
   "source": [
    "L"
   ]
  },
  {
   "cell_type": "code",
   "execution_count": null,
   "id": "1737d58c",
   "metadata": {},
   "outputs": [],
   "source": []
  },
  {
   "cell_type": "code",
   "execution_count": 16,
   "id": "431b232b",
   "metadata": {},
   "outputs": [
    {
     "data": {
      "text/plain": [
       "12"
      ]
     },
     "execution_count": 16,
     "metadata": {},
     "output_type": "execute_result"
    }
   ],
   "source": [
    "N"
   ]
  },
  {
   "cell_type": "code",
   "execution_count": null,
   "id": "9ca517cb",
   "metadata": {},
   "outputs": [],
   "source": []
  }
 ],
 "metadata": {
  "kernelspec": {
   "display_name": "Python 3 (ipykernel)",
   "language": "python",
   "name": "python3"
  },
  "language_info": {
   "codemirror_mode": {
    "name": "ipython",
    "version": 3
   },
   "file_extension": ".py",
   "mimetype": "text/x-python",
   "name": "python",
   "nbconvert_exporter": "python",
   "pygments_lexer": "ipython3",
   "version": "3.9.12"
  }
 },
 "nbformat": 4,
 "nbformat_minor": 5
}
